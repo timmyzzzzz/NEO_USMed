{
 "cells": [
  {
   "cell_type": "markdown",
   "id": "a0391f96",
   "metadata": {},
   "source": [
    "# U.S. Medical Insurance Costs\n",
    "\n",
    "This project uses python to investivate in **insurance.csv**.\n",
    "The goal with this project is to learn about patient information and gain insights. "
   ]
  },
  {
   "cell_type": "code",
   "execution_count": null,
   "id": "9badd1d1",
   "metadata": {},
   "outputs": [],
   "source": [
    "import csv\n",
    "\n",
    "#Create empty lists for the various attributes in insurance.csv\n",
    "ages = []\n",
    "sexes = []\n",
    "bmis = []\n",
    "num_children = []\n",
    "smoker_statuses = []\n",
    "regions = []\n",
    "insurance_charges = []\n",
    "\n",
    "def load_list_data(lst, csv_file, column_name):\n",
    "    with open(csv_file) as csv_info:\n",
    "        csv_dict = csv.DictReader(csv_info)\n",
    "        for row in csv_dict:\n",
    "            lst.append(row[column_name])\n",
    "        return lst\n",
    "\n",
    "load_list_data(ages, 'insurance.csv', 'age')\n",
    "load_list_data(sexes, 'insurance.csv', 'sex')\n",
    "load_list_data(bmis, 'insurance.csv', 'bmi')\n",
    "load_list_data(num_children, 'insurance.csv', 'children')\n",
    "load_list_data(smoker_statuses, 'insurance.csv', 'smoker')\n",
    "load_list_data(regions, 'insurance.csv', 'region')\n",
    "load_list_data(insurance_charges, 'insurance.csv', 'charges')"
   ]
  },
  {
   "cell_type": "markdown",
   "id": "fe12e768",
   "metadata": {},
   "source": [
    "## We will find...\n",
    "\n",
    "* average age of the patients\n",
    "* number of males vs. females counted in the dataset\n",
    "* geographical location of the patients\n",
    "* average yearly medical charges of the patients\n",
    "* a dictionary that contains all patient information"
   ]
  },
  {
   "cell_type": "code",
   "execution_count": null,
   "id": "b023668d",
   "metadata": {},
   "outputs": [],
   "source": [
    "class PatientsInfo:\n",
    "    def __init__(self, patients_ages, patients_sexes, patients_bmis, patients_num_children, \n",
    "                 patients_smoker_statuses, patients_regions, patients_charges):\n",
    "        self.patients_ages = patients_ages\n",
    "        self.patients_sexes = patients_sexes\n",
    "        self.patients_bmis = patients_bmis\n",
    "        self.patients_num_children = patients_num_children\n",
    "        self.patients_smoker_statuses = patients_smoker_statuses\n",
    "        self.patients_regions = patients_regions\n",
    "        self.patients_charges = patients_charges\n",
    "\n",
    "    def analyze_ages(self):\n",
    "        total_age = 0\n",
    "        for age in self.patients_ages:\n",
    "            total_age += int(age)\n",
    "        return (\"Average Patient Age: \" + str(round(total_age/len(self.patients_ages), 2)) + \" years\")\n",
    "\n",
    "    def analyze_sexes(self):\n",
    "        females = 0\n",
    "        males = 0\n",
    "        for sex in self.patients_sexes:\n",
    "            if sex == 'female':\n",
    "                females += 1\n",
    "            elif sex == 'male':\n",
    "                males += 1\n",
    "        print(\"Count for female: \", females)\n",
    "        print(\"Count for male: \", males)\n",
    "\n",
    "    def unique_regions(self):\n",
    "        unique_regions = []\n",
    "        for region in self.patients_regions:\n",
    "            if region not in unique_regions: \n",
    "                unique_regions.append(region)\n",
    "        return unique_regions\n",
    "\n",
    "    def average_charges(self):\n",
    "        total_charges = 0\n",
    "        for charge in self.patients_charges:\n",
    "            total_charges += float(charge)\n",
    "        return (\"Average Yearly Medical Insurance Charges: \" +  \n",
    "                str(round(total_charges/len(self.patients_charges), 2)) + \" dollars.\")\n",
    "    \n",
    "    def create_dictionary(self):\n",
    "        self.patients_dictionary = {}\n",
    "        self.patients_dictionary[\"age\"] = [int(age) for age in self.patients_ages]\n",
    "        self.patients_dictionary[\"sex\"] = self.patients_sexes\n",
    "        self.patients_dictionary[\"bmi\"] = self.patients_bmis\n",
    "        self.patients_dictionary[\"children\"] = self.patients_num_children\n",
    "        self.patients_dictionary[\"smoker\"] = self.patients_smoker_statuses\n",
    "        self.patients_dictionary[\"regions\"] = self.patients_regions\n",
    "        self.patients_dictionary[\"charges\"] = self.patients_charges\n",
    "        return self.patients_dictionary"
   ]
  },
  {
   "cell_type": "markdown",
   "id": "99ca0600",
   "metadata": {},
   "source": [
    "### Now, actual implementation to resolve the goals above."
   ]
  },
  {
   "cell_type": "code",
   "execution_count": null,
   "id": "911ff509",
   "metadata": {},
   "outputs": [],
   "source": [
    "patient_info = PatientsInfo(ages, sexes, bmis, num_children, smoker_statuses, regions, insurance_charges)\n",
    "patient_info.analyze_ages()\n",
    "patient_info.analyze_sexes()\n",
    "patient_info.unique_regions()\n",
    "patient_info.average_charges()\n",
    "patient_info.create_dictionary()"
   ]
  }
 ],
 "metadata": {
  "language_info": {
   "name": "python"
  }
 },
 "nbformat": 4,
 "nbformat_minor": 5
}
